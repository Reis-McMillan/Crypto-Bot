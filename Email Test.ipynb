{
 "cells": [
  {
   "cell_type": "code",
   "execution_count": 7,
   "id": "3c3e38ae-6f6e-4487-b551-2146cfc54827",
   "metadata": {
    "tags": []
   },
   "outputs": [],
   "source": [
    "import smtplib, ssl\n",
    "\n",
    "class EmailAlert:\n",
    "    def __init__(self):\n",
    "        self.login = 'kletis0419@gmail.com'\n",
    "        self.password = 'ywtlpsaouwyskiyy'\n",
    "        self.receiver = 'mcmillar@purdue.edu'\n",
    "        \n",
    "        self.server = smtplib.SMTP('smtp.gmail.com', 587)\n",
    "        self.server.starttls()\n",
    "        self.server.login(self.login, self.password)\n",
    "        \n",
    "    def send_alert(self):\n",
    "        message = f'''\n",
    "Subject: Test\n",
    "To: {self.receiver}\n",
    "From: {self.login}\n",
    "\n",
    "Hello. This is a test.'''\n",
    "        self.server.sendmail(self.login, self.receiver, message)"
   ]
  },
  {
   "cell_type": "code",
   "execution_count": 8,
   "id": "3ce71dac-2578-40c2-a1fd-2d094bb9db49",
   "metadata": {
    "tags": []
   },
   "outputs": [],
   "source": [
    "emailer = EmailAlert()"
   ]
  },
  {
   "cell_type": "code",
   "execution_count": 9,
   "id": "bd33ee02-1c7a-4612-8e5f-cf5610933b91",
   "metadata": {
    "tags": []
   },
   "outputs": [],
   "source": [
    "emailer.send_alert()"
   ]
  },
  {
   "cell_type": "code",
   "execution_count": 29,
   "id": "cd8ff9e3-4744-4c35-99f4-4268ac1be902",
   "metadata": {
    "tags": []
   },
   "outputs": [],
   "source": [
    "import smtplib\n",
    "\n",
    "class EmailAlert:\n",
    "    def __init__(self):\n",
    "        self.login = \"kletis0419@gmail.com\"\n",
    "        self.password = \"ywtlpsaouwyskiyy\"\n",
    "        self.receiver='mcmillar@purdue.edu'\n",
    "\n",
    "    def send_alert(self, msg):\n",
    "        with smtplib.SMTP('smtp.gmail.com', 587) as server:\n",
    "            server.starttls()\n",
    "            server.login(self.login, self.password)\n",
    "            message = f\"\"\"\\\n",
    "Subject: An error has occured with Crypto Bot.\n",
    "To: {self.receiver}\n",
    "From: {self.login}\n",
    "\n",
    "An error has occured:\n",
    "{msg}\"\"\"\n",
    "\n",
    "            server.sendmail(self.login, self.receiver, message)"
   ]
  },
  {
   "cell_type": "code",
   "execution_count": 30,
   "id": "e460cb63-0752-424e-ad89-0923737f735a",
   "metadata": {
    "tags": []
   },
   "outputs": [],
   "source": [
    "emailer = EmailAlert()"
   ]
  },
  {
   "cell_type": "code",
   "execution_count": 31,
   "id": "c840d6fe-f596-4770-a760-c43302d5f59d",
   "metadata": {
    "tags": []
   },
   "outputs": [],
   "source": [
    "emailer.send_alert('traceback')"
   ]
  }
 ],
 "metadata": {
  "kernelspec": {
   "display_name": "Python 3 (ipykernel)",
   "language": "python",
   "name": "python3"
  },
  "language_info": {
   "codemirror_mode": {
    "name": "ipython",
    "version": 3
   },
   "file_extension": ".py",
   "mimetype": "text/x-python",
   "name": "python",
   "nbconvert_exporter": "python",
   "pygments_lexer": "ipython3",
   "version": "3.9.13"
  }
 },
 "nbformat": 4,
 "nbformat_minor": 5
}
