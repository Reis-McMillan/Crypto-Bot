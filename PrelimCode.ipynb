{
 "cells": [
  {
   "cell_type": "code",
   "execution_count": 4,
   "id": "b5307ee8-99d1-467b-ba1e-fb80cdfc19ad",
   "metadata": {
    "tags": []
   },
   "outputs": [],
   "source": [
    "import time\n",
    "import hmac\n",
    "import hashlib\n",
    "import requests\n",
    "import numpy as np\n",
    "import http\n",
    "import json"
   ]
  },
  {
   "cell_type": "code",
   "execution_count": 10,
   "id": "91b04a30-1265-4ce8-9752-4645d199e361",
   "metadata": {
    "tags": []
   },
   "outputs": [],
   "source": [
    "data = open('mexc-api.txt', 'r').read().splitlines()\n",
    "\n",
    "public = data[0]\n",
    "passphrase = data[1]"
   ]
  },
  {
   "cell_type": "code",
   "execution_count": 23,
   "id": "39a67b37-952f-449f-98cc-e10c4d1ef28a",
   "metadata": {
    "tags": []
   },
   "outputs": [
    {
     "data": {
      "text/plain": [
       "{'code': 200,\n",
       " 'data': [{'symbol': 'BTC_USDC',\n",
       "   'volume': '19.430725',\n",
       "   'amount': '582403.19',\n",
       "   'high': '30282.89',\n",
       "   'low': '29547.81',\n",
       "   'bid': '30136.22',\n",
       "   'ask': '30157.34',\n",
       "   'open': '30282.89',\n",
       "   'last': '30141.02',\n",
       "   'time': 1687529700000,\n",
       "   'change_rate': '-0.00468482'}]}"
      ]
     },
     "execution_count": 23,
     "metadata": {},
     "output_type": "execute_result"
    }
   ],
   "source": [
    "mrkt_url = 'http://mexc.com/open/api/v2/market/ticker'\n",
    "response = requests.get(url=mrkt_url, params={'symbol':'BTC_USDC'})\n",
    "\n",
    "response.json()"
   ]
  },
  {
   "cell_type": "code",
   "execution_count": 7,
   "id": "078fe437-40a1-453a-a7cf-96f7f2efa88e",
   "metadata": {
    "tags": []
   },
   "outputs": [],
   "source": [
    "import pandas as pd"
   ]
  },
  {
   "cell_type": "code",
   "execution_count": 12,
   "id": "565ae91d-174c-4b6a-b35c-b35ec3e748cb",
   "metadata": {
    "tags": []
   },
   "outputs": [
    {
     "data": {
      "text/plain": [
       "Timestamp('2023-06-23 14:15:00')"
      ]
     },
     "execution_count": 12,
     "metadata": {},
     "output_type": "execute_result"
    }
   ],
   "source": [
    "pd.Timestamp(1687529700000, unit='ms')"
   ]
  }
 ],
 "metadata": {
  "kernelspec": {
   "display_name": "Python 3 (ipykernel)",
   "language": "python",
   "name": "python3"
  },
  "language_info": {
   "codemirror_mode": {
    "name": "ipython",
    "version": 3
   },
   "file_extension": ".py",
   "mimetype": "text/x-python",
   "name": "python",
   "nbconvert_exporter": "python",
   "pygments_lexer": "ipython3",
   "version": "3.9.13"
  }
 },
 "nbformat": 4,
 "nbformat_minor": 5
}
