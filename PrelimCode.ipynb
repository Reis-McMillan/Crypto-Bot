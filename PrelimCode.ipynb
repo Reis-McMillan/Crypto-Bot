{
 "cells": [
  {
   "cell_type": "code",
   "execution_count": 3,
   "id": "b5307ee8-99d1-467b-ba1e-fb80cdfc19ad",
   "metadata": {
    "tags": []
   },
   "outputs": [],
   "source": [
    "import time\n",
    "import hmac\n",
    "import hashlib\n",
    "import requests\n",
    "import numpy as np\n",
    "import http\n",
    "import json"
   ]
  },
  {
   "cell_type": "code",
   "execution_count": 3,
   "id": "bb0d79bc-a643-4527-8401-4e6f729c4bf3",
   "metadata": {
    "tags": []
   },
   "outputs": [],
   "source": [
    "data = open('cbapi.txt', 'r').read().splitlines()\n",
    "\n",
    "public = data[0]\n",
    "passphrase = data[1]\n",
    "secret = data[2]"
   ]
  },
  {
   "cell_type": "code",
   "execution_count": 9,
   "id": "bedbbbbb-4a73-472c-a723-31dfddd3de82",
   "metadata": {
    "tags": []
   },
   "outputs": [],
   "source": [
    "class Client:\n",
    "    def __init__(self):\n",
    "        data = open('cbapi.txt', 'r').read().splitlines()\n",
    "\n",
    "        self.public = data[0]\n",
    "        self.passphrase = data[1]\n",
    "        self.secret = data[2]\n",
    "\n",
    "    def sign_message(self, request) -> requests.Request:\n",
    "        '''Signs the request'''\n",
    "\n",
    "        api_key = self.public\n",
    "        api_secret = self.secret\n",
    "\n",
    "        timestamp = str(int(time.time()))\n",
    "        body = (request.body or b\"\").decode()\n",
    "        url = request.path_url.split(\"?\")[0]\n",
    "        message = f\"{timestamp}{request.method}{url}{body}\"\n",
    "        signature = hmac.new(api_secret.encode(\"utf-8\"), message.encode(\"utf-8\"), digestmod=hashlib.sha256).hexdigest()\n",
    "\n",
    "        request.headers.update(\n",
    "            {\n",
    "                \"CB-ACCESS-SIGN\": signature,\n",
    "                \"CB-ACCESS-TIMESTAMP\": timestamp,\n",
    "                \"CB-ACCESS-KEY\": api_key,\n",
    "                \"Content-Type\": \"application/json\",\n",
    "            }\n",
    "        )\n",
    "\n",
    "        return request\n",
    "\n",
    "    def get_candles(self, product: str, start: int, end: int):\n",
    "        payload = {}\n",
    "        resp = requests.get(\n",
    "            f\"https://api.coinbase.com/api/v3/brokerage/products/{product}/candles?start={start}&end={end}&granularity=ONE_MINUTE\",\n",
    "            params=payload, auth=self.sign_message)\n",
    "        return resp.json()\n",
    "\n",
    "    def list_accounts(self):\n",
    "        payload = {}\n",
    "        resp = requests.get(\"https://api.coinbase.com/api/v3/brokerage/accounts\", params=payload,\n",
    "                            auth=self.sign_message)\n",
    "        return resp.json()\n",
    "\n",
    "    def list_products(self):\n",
    "        payload = {}\n",
    "        resp = requests.get(\"https://api.coinbase.com/api/v3/brokerage/products?product_type=SPOT\", params=payload,\n",
    "                            auth=self.sign_message)\n",
    "        return resp.json()\n",
    "\n",
    "    def post_sell_order(self, product: str, base_size: float):\n",
    "        timestamp = str(int(time.time()))\n",
    "        method = \"POST\"\n",
    "        path = \"/api/v3/brokerage/orders\"\n",
    "        payload = json.dumps({\n",
    "            \"client_order_id\": str(np.random.randint(2 ** 31)),\n",
    "            \"product_id\": product,\n",
    "            \"side\": \"SELL\",\n",
    "            \"order_configuration\": {\n",
    "                \"market_market_ioc\": {\n",
    "                    \"base_size\": str(base_size)\n",
    "                }\n",
    "            }\n",
    "        })\n",
    "        message = f\"{timestamp}{method}{path}{payload}\"\n",
    "        signature = hmac.new(self.secret.encode('utf-8'), message.encode('utf-8'), digestmod=hashlib.sha256).hexdigest()\n",
    "\n",
    "        headers = {\n",
    "            'CB-ACCESS-KEY': self.public,\n",
    "            'CB-ACCESS-TIMESTAMP': timestamp,\n",
    "            'CB-ACCESS-SIGN': signature,\n",
    "            'accept': 'application/json'\n",
    "        }\n",
    "\n",
    "        conn = http.client.HTTPSConnection(\"api.coinbase.com\")\n",
    "        conn.request(method, path, payload, headers)\n",
    "        res = conn.getresponse()\n",
    "        data = res.read()\n",
    "        print(data.decode(\"utf-8\"))\n",
    "\n",
    "    def post_buy_order(self, product: str, quote_size: float):\n",
    "        timestamp = str(int(time.time()))\n",
    "        method = \"POST\"\n",
    "        path = \"/api/v3/brokerage/orders\"\n",
    "        payload = json.dumps({\n",
    "            \"client_order_id\": str(np.random.randint(2 ** 31)),\n",
    "            \"product_id\": product,\n",
    "            \"side\": \"BUY\",\n",
    "            \"order_configuration\": {\n",
    "                \"market_market_ioc\": {\n",
    "                    \"quote_size\": str(quote_size)\n",
    "                }\n",
    "            }\n",
    "        })\n",
    "        message = f\"{timestamp}{method}{path}{payload}\"\n",
    "        signature = hmac.new(self.secret.encode('utf-8'), message.encode('utf-8'), digestmod=hashlib.sha256).hexdigest()\n",
    "\n",
    "        headers = {\n",
    "            'CB-ACCESS-KEY': self.public,\n",
    "            'CB-ACCESS-TIMESTAMP': timestamp,\n",
    "            'CB-ACCESS-SIGN': signature,\n",
    "            'accept': 'application/json'\n",
    "        }\n",
    "\n",
    "        conn = http.client.HTTPSConnection(\"api.coinbase.com\")\n",
    "        conn.request(method, path, payload, headers)\n",
    "        res = conn.getresponse()\n",
    "        data = res.read()\n",
    "        return json.loads(data.decode(\"utf-8\"))"
   ]
  },
  {
   "cell_type": "code",
   "execution_count": 10,
   "id": "31c3cdea-8e8a-4667-8d39-56ccab829142",
   "metadata": {
    "tags": []
   },
   "outputs": [],
   "source": [
    "client = Client()"
   ]
  },
  {
   "cell_type": "code",
   "execution_count": 16,
   "id": "6ca967fa-2bd4-44d1-a4bd-9e4a795ccb02",
   "metadata": {
    "tags": []
   },
   "outputs": [
    {
     "data": {
      "text/plain": [
       "{'success': False,\n",
       " 'failure_reason': 'UNKNOWN_FAILURE_REASON',\n",
       " 'order_id': '',\n",
       " 'error_response': {'error': 'INSUFFICIENT_FUND',\n",
       "  'message': 'Insufficient balance in source account',\n",
       "  'error_details': '',\n",
       "  'preview_failure_reason': 'PREVIEW_INSUFFICIENT_FUND'},\n",
       " 'order_configuration': {'market_market_ioc': {'quote_size': '1000'}}}"
      ]
     },
     "execution_count": 16,
     "metadata": {},
     "output_type": "execute_result"
    }
   ],
   "source": [
    "client.post_buy_order('BTC-USD', 1000)"
   ]
  },
  {
   "cell_type": "code",
   "execution_count": 1,
   "id": "6088682a-6dea-445b-8fe7-9eeb4e58ccc3",
   "metadata": {
    "tags": []
   },
   "outputs": [],
   "source": [
    "import traceback"
   ]
  },
  {
   "cell_type": "code",
   "execution_count": 23,
   "id": "bae59740-d172-44a0-b5a5-4ee8bd74820e",
   "metadata": {
    "tags": []
   },
   "outputs": [],
   "source": [
    "import pandas as pd"
   ]
  },
  {
   "cell_type": "code",
   "execution_count": 24,
   "id": "f9d51cc3-5995-4a24-af30-d1bb11571792",
   "metadata": {
    "tags": []
   },
   "outputs": [],
   "source": [
    "import csv"
   ]
  },
  {
   "cell_type": "code",
   "execution_count": 6,
   "id": "850458f1-4d0a-40a5-829b-4b1177a16d54",
   "metadata": {
    "tags": []
   },
   "outputs": [],
   "source": [
    "data = [[0, 1, 2],\n",
    "        [3, 4, 5],\n",
    "        [6, 7, 8]]\n",
    "df = pd.DataFrame(data)"
   ]
  },
  {
   "cell_type": "code",
   "execution_count": 26,
   "id": "0661a20f-794a-4c02-8243-31983dffd6b4",
   "metadata": {
    "tags": []
   },
   "outputs": [
    {
     "data": {
      "text/plain": [
       "0"
      ]
     },
     "execution_count": 26,
     "metadata": {},
     "output_type": "execute_result"
    }
   ],
   "source": []
  }
 ],
 "metadata": {
  "kernelspec": {
   "display_name": "Python 3 (ipykernel)",
   "language": "python",
   "name": "python3"
  },
  "language_info": {
   "codemirror_mode": {
    "name": "ipython",
    "version": 3
   },
   "file_extension": ".py",
   "mimetype": "text/x-python",
   "name": "python",
   "nbconvert_exporter": "python",
   "pygments_lexer": "ipython3",
   "version": "3.9.13"
  }
 },
 "nbformat": 4,
 "nbformat_minor": 5
}
